{
 "cells": [
  {
   "cell_type": "markdown",
   "metadata": {},
   "source": [
    "#  PANDAS Series"
   ]
  },
  {
   "cell_type": "code",
   "execution_count": 1,
   "metadata": {},
   "outputs": [],
   "source": [
    "import pandas as pd"
   ]
  },
  {
   "cell_type": "code",
   "execution_count": 2,
   "metadata": {},
   "outputs": [
    {
     "name": "stdout",
     "output_type": "stream",
     "text": [
      "[1, 2, -3, 4.5, 2]\n"
     ]
    }
   ],
   "source": [
    "list_1 = [1,2,-3,4.5,2]\n",
    "print(list_1)"
   ]
  },
  {
   "cell_type": "code",
   "execution_count": 3,
   "metadata": {},
   "outputs": [
    {
     "name": "stdout",
     "output_type": "stream",
     "text": [
      "0    1.0\n",
      "1    2.0\n",
      "2   -3.0\n",
      "3    4.5\n",
      "4    2.0\n",
      "dtype: float64\n"
     ]
    }
   ],
   "source": [
    "series1 = pd.Series(list_1)\n",
    "print(series1)\n"
   ]
  },
  {
   "cell_type": "code",
   "execution_count": 4,
   "metadata": {},
   "outputs": [
    {
     "data": {
      "text/plain": [
       "pandas.core.series.Series"
      ]
     },
     "execution_count": 4,
     "metadata": {},
     "output_type": "execute_result"
    }
   ],
   "source": [
    "type(series1)"
   ]
  },
  {
   "cell_type": "code",
   "execution_count": 5,
   "metadata": {},
   "outputs": [
    {
     "name": "stdout",
     "output_type": "stream",
     "text": [
      "Series([], dtype: float64)\n"
     ]
    },
    {
     "name": "stderr",
     "output_type": "stream",
     "text": [
      "D:\\python\\lib\\site-packages\\ipykernel_launcher.py:2: DeprecationWarning: The default dtype for empty Series will be 'object' instead of 'float64' in a future version. Specify a dtype explicitly to silence this warning.\n",
      "  \n"
     ]
    }
   ],
   "source": [
    "# empty series\n",
    "empty_s = pd.Series([])\n",
    "print(empty_s)"
   ]
  },
  {
   "cell_type": "code",
   "execution_count": 6,
   "metadata": {},
   "outputs": [
    {
     "name": "stdout",
     "output_type": "stream",
     "text": [
      "a    4.0\n",
      "2    4.0\n",
      "c    2.0\n",
      "4    3.0\n",
      "Name: data values, dtype: float64\n"
     ]
    }
   ],
   "source": [
    "series3 = pd.Series( [4,4,2,3] , index = ['a',2,'c','4'] ,\n",
    "                   dtype = float , name = 'data values')\n",
    "print(series3)"
   ]
  },
  {
   "cell_type": "code",
   "execution_count": 7,
   "metadata": {},
   "outputs": [
    {
     "name": "stdout",
     "output_type": "stream",
     "text": [
      "0      1\n",
      "1      2\n",
      "2      3\n",
      "3    4.5\n",
      "4     aj\n",
      "dtype: object\n"
     ]
    }
   ],
   "source": [
    "# methord 2\n",
    "series2 = pd.Series([1,2,3,4.5,'aj'])\n",
    "print(series2)"
   ]
  },
  {
   "cell_type": "code",
   "execution_count": 8,
   "metadata": {},
   "outputs": [
    {
     "name": "stdout",
     "output_type": "stream",
     "text": [
      "0    2\n",
      "dtype: int64\n"
     ]
    }
   ],
   "source": [
    "s3_scalar = pd.Series(2)\n",
    "print(s3_scalar)"
   ]
  },
  {
   "cell_type": "code",
   "execution_count": 9,
   "metadata": {},
   "outputs": [
    {
     "name": "stdout",
     "output_type": "stream",
     "text": [
      "1    2\n",
      "a    2\n",
      "3    2\n",
      "dtype: int64\n"
     ]
    }
   ],
   "source": [
    "s4_scalar = pd.Series(2, index =[1,'a', 3] )\n",
    "print(s4_scalar)"
   ]
  },
  {
   "cell_type": "code",
   "execution_count": 10,
   "metadata": {},
   "outputs": [
    {
     "name": "stdout",
     "output_type": "stream",
     "text": [
      "0    1.0\n",
      "1    2.0\n",
      "2   -3.0\n",
      "3    4.5\n",
      "4    2.0\n",
      "dtype: float64\n",
      "0      1\n",
      "1      2\n",
      "2      3\n",
      "3    4.5\n",
      "4     aj\n",
      "dtype: object\n"
     ]
    }
   ],
   "source": [
    "print( series1 )\n",
    "print( series2 )"
   ]
  },
  {
   "cell_type": "code",
   "execution_count": 11,
   "metadata": {},
   "outputs": [],
   "source": [
    "#slicing"
   ]
  },
  {
   "cell_type": "code",
   "execution_count": 12,
   "metadata": {},
   "outputs": [
    {
     "data": {
      "text/plain": [
       "0    1\n",
       "1    2\n",
       "2    3\n",
       "dtype: object"
      ]
     },
     "execution_count": 12,
     "metadata": {},
     "output_type": "execute_result"
    }
   ],
   "source": [
    "series2[0:3]  # (a, b]"
   ]
  },
  {
   "cell_type": "code",
   "execution_count": 13,
   "metadata": {},
   "outputs": [
    {
     "name": "stdout",
     "output_type": "stream",
     "text": [
      "0    1.0\n",
      "1    2.0\n",
      "2   -3.0\n",
      "3    4.5\n",
      "4    2.0\n",
      "dtype: float64\n",
      "4.5\n",
      "-3.0\n",
      "[0     True\n",
      "1     True\n",
      "2     True\n",
      "3    False\n",
      "4     True\n",
      "dtype: bool]\n",
      "0    1.0\n",
      "1    2.0\n",
      "2   -3.0\n",
      "3    4.5\n",
      "dtype: float64\n"
     ]
    }
   ],
   "source": [
    "print( series1 )\n",
    "print( max(series1) )\n",
    "print( min(series1) )\n",
    "print( [ series1 < 4] )\n",
    "print( series1.drop(4) )"
   ]
  },
  {
   "cell_type": "code",
   "execution_count": 14,
   "metadata": {},
   "outputs": [],
   "source": [
    "s1 = pd.Series([1,2,3,4])\n",
    "s2 = pd.Series([4,3,2]) #handle missing value"
   ]
  },
  {
   "cell_type": "code",
   "execution_count": 15,
   "metadata": {},
   "outputs": [
    {
     "name": "stdout",
     "output_type": "stream",
     "text": [
      "0    5.0\n",
      "1    5.0\n",
      "2    5.0\n",
      "3    NaN\n",
      "dtype: float64\n"
     ]
    }
   ],
   "source": [
    "print(s1+s2)"
   ]
  },
  {
   "cell_type": "code",
   "execution_count": 16,
   "metadata": {},
   "outputs": [
    {
     "name": "stdout",
     "output_type": "stream",
     "text": [
      "a    1\n",
      "b    2\n",
      "c    3\n",
      "dtype: int64\n"
     ]
    }
   ],
   "source": [
    "s4_dict = pd.Series(  {'a':1, 'b':2, 'c':3}  )\n",
    "print(s4_dict)"
   ]
  },
  {
   "cell_type": "markdown",
   "metadata": {},
   "source": [
    "# Pandas Dataframe"
   ]
  },
  {
   "cell_type": "code",
   "execution_count": 17,
   "metadata": {},
   "outputs": [
    {
     "name": "stdout",
     "output_type": "stream",
     "text": [
      "Empty DataFrame\n",
      "Columns: []\n",
      "Index: []\n"
     ]
    }
   ],
   "source": [
    "# empty dataframes\n",
    "emt_df = pd.DataFrame()\n",
    "print(emt_df)"
   ]
  },
  {
   "cell_type": "code",
   "execution_count": 18,
   "metadata": {},
   "outputs": [
    {
     "data": {
      "text/html": [
       "<div>\n",
       "<style scoped>\n",
       "    .dataframe tbody tr th:only-of-type {\n",
       "        vertical-align: middle;\n",
       "    }\n",
       "\n",
       "    .dataframe tbody tr th {\n",
       "        vertical-align: top;\n",
       "    }\n",
       "\n",
       "    .dataframe thead th {\n",
       "        text-align: right;\n",
       "    }\n",
       "</style>\n",
       "<table border=\"1\" class=\"dataframe\">\n",
       "  <thead>\n",
       "    <tr style=\"text-align: right;\">\n",
       "      <th></th>\n",
       "      <th>0</th>\n",
       "    </tr>\n",
       "  </thead>\n",
       "  <tbody>\n",
       "    <tr>\n",
       "      <th>0</th>\n",
       "      <td>a</td>\n",
       "    </tr>\n",
       "    <tr>\n",
       "      <th>1</th>\n",
       "      <td>b</td>\n",
       "    </tr>\n",
       "    <tr>\n",
       "      <th>2</th>\n",
       "      <td>c</td>\n",
       "    </tr>\n",
       "  </tbody>\n",
       "</table>\n",
       "</div>"
      ],
      "text/plain": [
       "   0\n",
       "0  a\n",
       "1  b\n",
       "2  c"
      ]
     },
     "execution_count": 18,
     "metadata": {},
     "output_type": "execute_result"
    }
   ],
   "source": [
    "lst = ['a', 'b', 'c']   # First creating a list\n",
    "df1 = pd.DataFrame(lst)    # Creating dataframe from above list\n",
    "df1"
   ]
  },
  {
   "cell_type": "code",
   "execution_count": 19,
   "metadata": {},
   "outputs": [
    {
     "data": {
      "text/html": [
       "<div>\n",
       "<style scoped>\n",
       "    .dataframe tbody tr th:only-of-type {\n",
       "        vertical-align: middle;\n",
       "    }\n",
       "\n",
       "    .dataframe tbody tr th {\n",
       "        vertical-align: top;\n",
       "    }\n",
       "\n",
       "    .dataframe thead th {\n",
       "        text-align: right;\n",
       "    }\n",
       "</style>\n",
       "<table border=\"1\" class=\"dataframe\">\n",
       "  <thead>\n",
       "    <tr style=\"text-align: right;\">\n",
       "      <th></th>\n",
       "      <th>0</th>\n",
       "      <th>1</th>\n",
       "      <th>2</th>\n",
       "    </tr>\n",
       "  </thead>\n",
       "  <tbody>\n",
       "    <tr>\n",
       "      <th>0</th>\n",
       "      <td>1</td>\n",
       "      <td>2</td>\n",
       "      <td>3</td>\n",
       "    </tr>\n",
       "    <tr>\n",
       "      <th>1</th>\n",
       "      <td>2</td>\n",
       "      <td>3</td>\n",
       "      <td>4</td>\n",
       "    </tr>\n",
       "    <tr>\n",
       "      <th>2</th>\n",
       "      <td>4</td>\n",
       "      <td>5</td>\n",
       "      <td>6</td>\n",
       "    </tr>\n",
       "  </tbody>\n",
       "</table>\n",
       "</div>"
      ],
      "text/plain": [
       "   0  1  2\n",
       "0  1  2  3\n",
       "1  2  3  4\n",
       "2  4  5  6"
      ]
     },
     "execution_count": 19,
     "metadata": {},
     "output_type": "execute_result"
    }
   ],
   "source": [
    "# dataframes from list of list\n",
    "ls_of_ls = [ [1,2,3], [2,3,4], [4,5,6] ]   # Creating list of list\n",
    "df2 = pd.DataFrame(ls_of_ls)# Creating dataframe form above list of list\n",
    "df2"
   ]
  },
  {
   "cell_type": "code",
   "execution_count": 20,
   "metadata": {},
   "outputs": [
    {
     "data": {
      "text/html": [
       "<div>\n",
       "<style scoped>\n",
       "    .dataframe tbody tr th:only-of-type {\n",
       "        vertical-align: middle;\n",
       "    }\n",
       "\n",
       "    .dataframe tbody tr th {\n",
       "        vertical-align: top;\n",
       "    }\n",
       "\n",
       "    .dataframe thead th {\n",
       "        text-align: right;\n",
       "    }\n",
       "</style>\n",
       "<table border=\"1\" class=\"dataframe\">\n",
       "  <thead>\n",
       "    <tr style=\"text-align: right;\">\n",
       "      <th></th>\n",
       "      <th>ID</th>\n",
       "    </tr>\n",
       "  </thead>\n",
       "  <tbody>\n",
       "    <tr>\n",
       "      <th>0</th>\n",
       "      <td>11</td>\n",
       "    </tr>\n",
       "    <tr>\n",
       "      <th>1</th>\n",
       "      <td>22</td>\n",
       "    </tr>\n",
       "    <tr>\n",
       "      <th>2</th>\n",
       "      <td>33</td>\n",
       "    </tr>\n",
       "    <tr>\n",
       "      <th>3</th>\n",
       "      <td>44</td>\n",
       "    </tr>\n",
       "  </tbody>\n",
       "</table>\n",
       "</div>"
      ],
      "text/plain": [
       "   ID\n",
       "0  11\n",
       "1  22\n",
       "2  33\n",
       "3  44"
      ]
     },
     "execution_count": 20,
     "metadata": {},
     "output_type": "execute_result"
    }
   ],
   "source": [
    "# dataframes by dictionary\n",
    "dict1 = {'ID': [11,22,33,44]}   # Creating dict\n",
    "df3 = pd.DataFrame( dict1 )\n",
    "df3"
   ]
  },
  {
   "cell_type": "code",
   "execution_count": 21,
   "metadata": {},
   "outputs": [
    {
     "data": {
      "text/html": [
       "<div>\n",
       "<style scoped>\n",
       "    .dataframe tbody tr th:only-of-type {\n",
       "        vertical-align: middle;\n",
       "    }\n",
       "\n",
       "    .dataframe tbody tr th {\n",
       "        vertical-align: top;\n",
       "    }\n",
       "\n",
       "    .dataframe thead th {\n",
       "        text-align: right;\n",
       "    }\n",
       "</style>\n",
       "<table border=\"1\" class=\"dataframe\">\n",
       "  <thead>\n",
       "    <tr style=\"text-align: right;\">\n",
       "      <th></th>\n",
       "      <th>ID</th>\n",
       "      <th>SN</th>\n",
       "    </tr>\n",
       "  </thead>\n",
       "  <tbody>\n",
       "    <tr>\n",
       "      <th>0</th>\n",
       "      <td>11</td>\n",
       "      <td>1</td>\n",
       "    </tr>\n",
       "    <tr>\n",
       "      <th>1</th>\n",
       "      <td>22</td>\n",
       "      <td>2</td>\n",
       "    </tr>\n",
       "    <tr>\n",
       "      <th>2</th>\n",
       "      <td>33</td>\n",
       "      <td>3</td>\n",
       "    </tr>\n",
       "    <tr>\n",
       "      <th>3</th>\n",
       "      <td>44</td>\n",
       "      <td>4</td>\n",
       "    </tr>\n",
       "  </tbody>\n",
       "</table>\n",
       "</div>"
      ],
      "text/plain": [
       "   ID  SN\n",
       "0  11   1\n",
       "1  22   2\n",
       "2  33   3\n",
       "3  44   4"
      ]
     },
     "execution_count": 21,
     "metadata": {},
     "output_type": "execute_result"
    }
   ],
   "source": [
    "# dataframe from dictionary\n",
    "dict2 = { 'ID': [11,22,33,44], 'SN': [1,2,3,4]  }\n",
    "df4 = pd.DataFrame( dict2 )   # can't handle missing values\n",
    "df4"
   ]
  },
  {
   "cell_type": "code",
   "execution_count": 22,
   "metadata": {},
   "outputs": [
    {
     "data": {
      "text/html": [
       "<div>\n",
       "<style scoped>\n",
       "    .dataframe tbody tr th:only-of-type {\n",
       "        vertical-align: middle;\n",
       "    }\n",
       "\n",
       "    .dataframe tbody tr th {\n",
       "        vertical-align: top;\n",
       "    }\n",
       "\n",
       "    .dataframe thead th {\n",
       "        text-align: right;\n",
       "    }\n",
       "</style>\n",
       "<table border=\"1\" class=\"dataframe\">\n",
       "  <thead>\n",
       "    <tr style=\"text-align: right;\">\n",
       "      <th></th>\n",
       "      <th>a</th>\n",
       "      <th>b</th>\n",
       "    </tr>\n",
       "  </thead>\n",
       "  <tbody>\n",
       "    <tr>\n",
       "      <th>0</th>\n",
       "      <td>1</td>\n",
       "      <td>2</td>\n",
       "    </tr>\n",
       "    <tr>\n",
       "      <th>1</th>\n",
       "      <td>3</td>\n",
       "      <td>4</td>\n",
       "    </tr>\n",
       "  </tbody>\n",
       "</table>\n",
       "</div>"
      ],
      "text/plain": [
       "   a  b\n",
       "0  1  2\n",
       "1  3  4"
      ]
     },
     "execution_count": 22,
     "metadata": {},
     "output_type": "execute_result"
    }
   ],
   "source": [
    "#  dataframe from list of dictionary\n",
    "ls_dict = [ {'a':1, 'b':2}, {'a':3, 'b':4} ]   # Creating list of dict\n",
    "df5 = pd.DataFrame(ls_dict)   # Creating dataframe from list of dict\n",
    "df5                             # handle misssing"
   ]
  },
  {
   "cell_type": "code",
   "execution_count": 23,
   "metadata": {},
   "outputs": [
    {
     "data": {
      "text/html": [
       "<div>\n",
       "<style scoped>\n",
       "    .dataframe tbody tr th:only-of-type {\n",
       "        vertical-align: middle;\n",
       "    }\n",
       "\n",
       "    .dataframe tbody tr th {\n",
       "        vertical-align: top;\n",
       "    }\n",
       "\n",
       "    .dataframe thead th {\n",
       "        text-align: right;\n",
       "    }\n",
       "</style>\n",
       "<table border=\"1\" class=\"dataframe\">\n",
       "  <thead>\n",
       "    <tr style=\"text-align: right;\">\n",
       "      <th></th>\n",
       "      <th>ID</th>\n",
       "      <th>SN</th>\n",
       "    </tr>\n",
       "  </thead>\n",
       "  <tbody>\n",
       "    <tr>\n",
       "      <th>0</th>\n",
       "      <td>1</td>\n",
       "      <td>111</td>\n",
       "    </tr>\n",
       "    <tr>\n",
       "      <th>1</th>\n",
       "      <td>2</td>\n",
       "      <td>222</td>\n",
       "    </tr>\n",
       "    <tr>\n",
       "      <th>2</th>\n",
       "      <td>3</td>\n",
       "      <td>333</td>\n",
       "    </tr>\n",
       "  </tbody>\n",
       "</table>\n",
       "</div>"
      ],
      "text/plain": [
       "   ID   SN\n",
       "0   1  111\n",
       "1   2  222\n",
       "2   3  333"
      ]
     },
     "execution_count": 23,
     "metadata": {},
     "output_type": "execute_result"
    }
   ],
   "source": [
    "#  dataframe from dict of series\n",
    "dict_sr = { 'ID': pd.Series([1,2,3]), 'SN': pd.Series([111,222,333]) }\n",
    "df7 = pd.DataFrame(dict_sr)\n",
    "df7"
   ]
  },
  {
   "cell_type": "markdown",
   "metadata": {},
   "source": [
    "# Read and Write csv file"
   ]
  },
  {
   "cell_type": "code",
   "execution_count": 24,
   "metadata": {},
   "outputs": [
    {
     "data": {
      "text/html": [
       "<div>\n",
       "<style scoped>\n",
       "    .dataframe tbody tr th:only-of-type {\n",
       "        vertical-align: middle;\n",
       "    }\n",
       "\n",
       "    .dataframe tbody tr th {\n",
       "        vertical-align: top;\n",
       "    }\n",
       "\n",
       "    .dataframe thead th {\n",
       "        text-align: right;\n",
       "    }\n",
       "</style>\n",
       "<table border=\"1\" class=\"dataframe\">\n",
       "  <thead>\n",
       "    <tr style=\"text-align: right;\">\n",
       "      <th></th>\n",
       "      <th>ID</th>\n",
       "      <th>Name</th>\n",
       "      <th>Industry</th>\n",
       "      <th>Inception</th>\n",
       "      <th>Revenue</th>\n",
       "      <th>Expenses</th>\n",
       "      <th>Profit</th>\n",
       "      <th>Growth</th>\n",
       "    </tr>\n",
       "  </thead>\n",
       "  <tbody>\n",
       "    <tr>\n",
       "      <th>0</th>\n",
       "      <td>1</td>\n",
       "      <td>Lamtone</td>\n",
       "      <td>IT Services</td>\n",
       "      <td>2009</td>\n",
       "      <td>$11,757,018</td>\n",
       "      <td>6,482,465 Dollars</td>\n",
       "      <td>5274553</td>\n",
       "      <td>30%</td>\n",
       "    </tr>\n",
       "    <tr>\n",
       "      <th>1</th>\n",
       "      <td>2</td>\n",
       "      <td>Stripfind</td>\n",
       "      <td>Financial Services</td>\n",
       "      <td>2010</td>\n",
       "      <td>$12,329,371</td>\n",
       "      <td>916,455 Dollars</td>\n",
       "      <td>11412916</td>\n",
       "      <td>20%</td>\n",
       "    </tr>\n",
       "    <tr>\n",
       "      <th>2</th>\n",
       "      <td>3</td>\n",
       "      <td>Canecorporation</td>\n",
       "      <td>Health</td>\n",
       "      <td>2012</td>\n",
       "      <td>$10,597,009</td>\n",
       "      <td>7,591,189 Dollars</td>\n",
       "      <td>3005820</td>\n",
       "      <td>7%</td>\n",
       "    </tr>\n",
       "  </tbody>\n",
       "</table>\n",
       "</div>"
      ],
      "text/plain": [
       "   ID             Name            Industry  Inception       Revenue  \\\n",
       "0   1          Lamtone         IT Services       2009  $11,757,018    \n",
       "1   2        Stripfind  Financial Services       2010  $12,329,371    \n",
       "2   3  Canecorporation              Health       2012  $10,597,009    \n",
       "\n",
       "            Expenses    Profit Growth  \n",
       "0  6,482,465 Dollars   5274553    30%  \n",
       "1    916,455 Dollars  11412916    20%  \n",
       "2  7,591,189 Dollars   3005820     7%  "
      ]
     },
     "execution_count": 24,
     "metadata": {},
     "output_type": "execute_result"
    }
   ],
   "source": [
    "df = pd.read_csv('Fortune_10.csv')\n",
    "df.head(3)"
   ]
  },
  {
   "cell_type": "code",
   "execution_count": 25,
   "metadata": {},
   "outputs": [
    {
     "name": "stdout",
     "output_type": "stream",
     "text": [
      "<class 'pandas.core.frame.DataFrame'>\n",
      "Index(['ID', 'Name', 'Industry', 'Inception', 'Revenue', 'Expenses', 'Profit',\n",
      "       'Growth'],\n",
      "      dtype='object')\n"
     ]
    }
   ],
   "source": [
    "print( type(df) )\n",
    "print( df.columns )"
   ]
  },
  {
   "cell_type": "code",
   "execution_count": 26,
   "metadata": {},
   "outputs": [
    {
     "data": {
      "text/html": [
       "<div>\n",
       "<style scoped>\n",
       "    .dataframe tbody tr th:only-of-type {\n",
       "        vertical-align: middle;\n",
       "    }\n",
       "\n",
       "    .dataframe tbody tr th {\n",
       "        vertical-align: top;\n",
       "    }\n",
       "\n",
       "    .dataframe thead th {\n",
       "        text-align: right;\n",
       "    }\n",
       "</style>\n",
       "<table border=\"1\" class=\"dataframe\">\n",
       "  <thead>\n",
       "    <tr style=\"text-align: right;\">\n",
       "      <th></th>\n",
       "      <th>ID</th>\n",
       "      <th>Name</th>\n",
       "      <th>Industry</th>\n",
       "      <th>Inception</th>\n",
       "      <th>Revenue</th>\n",
       "      <th>Expenses</th>\n",
       "      <th>Profit</th>\n",
       "      <th>Growth</th>\n",
       "    </tr>\n",
       "  </thead>\n",
       "  <tbody>\n",
       "    <tr>\n",
       "      <th>0</th>\n",
       "      <td>1</td>\n",
       "      <td>Lamtone</td>\n",
       "      <td>IT Services</td>\n",
       "      <td>2009</td>\n",
       "      <td>$11,757,018</td>\n",
       "      <td>6,482,465 Dollars</td>\n",
       "      <td>5274553</td>\n",
       "      <td>30%</td>\n",
       "    </tr>\n",
       "  </tbody>\n",
       "</table>\n",
       "</div>"
      ],
      "text/plain": [
       "   ID     Name     Industry  Inception       Revenue           Expenses  \\\n",
       "0   1  Lamtone  IT Services       2009  $11,757,018   6,482,465 Dollars   \n",
       "\n",
       "    Profit Growth  \n",
       "0  5274553    30%  "
      ]
     },
     "execution_count": 26,
     "metadata": {},
     "output_type": "execute_result"
    }
   ],
   "source": [
    "df = pd.read_csv('Fortune_10.csv', nrows = 1)\n",
    "df"
   ]
  },
  {
   "cell_type": "code",
   "execution_count": 27,
   "metadata": {},
   "outputs": [
    {
     "data": {
      "text/html": [
       "<div>\n",
       "<style scoped>\n",
       "    .dataframe tbody tr th:only-of-type {\n",
       "        vertical-align: middle;\n",
       "    }\n",
       "\n",
       "    .dataframe tbody tr th {\n",
       "        vertical-align: top;\n",
       "    }\n",
       "\n",
       "    .dataframe thead th {\n",
       "        text-align: right;\n",
       "    }\n",
       "</style>\n",
       "<table border=\"1\" class=\"dataframe\">\n",
       "  <thead>\n",
       "    <tr style=\"text-align: right;\">\n",
       "      <th></th>\n",
       "      <th>ID</th>\n",
       "      <th>Inception</th>\n",
       "    </tr>\n",
       "  </thead>\n",
       "  <tbody>\n",
       "    <tr>\n",
       "      <th>0</th>\n",
       "      <td>1</td>\n",
       "      <td>2009</td>\n",
       "    </tr>\n",
       "    <tr>\n",
       "      <th>1</th>\n",
       "      <td>2</td>\n",
       "      <td>2010</td>\n",
       "    </tr>\n",
       "    <tr>\n",
       "      <th>2</th>\n",
       "      <td>3</td>\n",
       "      <td>2012</td>\n",
       "    </tr>\n",
       "    <tr>\n",
       "      <th>3</th>\n",
       "      <td>4</td>\n",
       "      <td>2013</td>\n",
       "    </tr>\n",
       "    <tr>\n",
       "      <th>4</th>\n",
       "      <td>5</td>\n",
       "      <td>2009</td>\n",
       "    </tr>\n",
       "    <tr>\n",
       "      <th>5</th>\n",
       "      <td>6</td>\n",
       "      <td>2006</td>\n",
       "    </tr>\n",
       "    <tr>\n",
       "      <th>6</th>\n",
       "      <td>7</td>\n",
       "      <td>2010</td>\n",
       "    </tr>\n",
       "    <tr>\n",
       "      <th>7</th>\n",
       "      <td>8</td>\n",
       "      <td>2009</td>\n",
       "    </tr>\n",
       "    <tr>\n",
       "      <th>8</th>\n",
       "      <td>9</td>\n",
       "      <td>2011</td>\n",
       "    </tr>\n",
       "    <tr>\n",
       "      <th>9</th>\n",
       "      <td>10</td>\n",
       "      <td>2011</td>\n",
       "    </tr>\n",
       "  </tbody>\n",
       "</table>\n",
       "</div>"
      ],
      "text/plain": [
       "   ID  Inception\n",
       "0   1       2009\n",
       "1   2       2010\n",
       "2   3       2012\n",
       "3   4       2013\n",
       "4   5       2009\n",
       "5   6       2006\n",
       "6   7       2010\n",
       "7   8       2009\n",
       "8   9       2011\n",
       "9  10       2011"
      ]
     },
     "execution_count": 27,
     "metadata": {},
     "output_type": "execute_result"
    }
   ],
   "source": [
    "df=pd.read_csv('Fortune_10.csv', usecols = [0,3] ) #index of column\n",
    "df"
   ]
  },
  {
   "cell_type": "code",
   "execution_count": 28,
   "metadata": {},
   "outputs": [
    {
     "data": {
      "text/html": [
       "<div>\n",
       "<style scoped>\n",
       "    .dataframe tbody tr th:only-of-type {\n",
       "        vertical-align: middle;\n",
       "    }\n",
       "\n",
       "    .dataframe tbody tr th {\n",
       "        vertical-align: top;\n",
       "    }\n",
       "\n",
       "    .dataframe thead th {\n",
       "        text-align: right;\n",
       "    }\n",
       "</style>\n",
       "<table border=\"1\" class=\"dataframe\">\n",
       "  <thead>\n",
       "    <tr style=\"text-align: right;\">\n",
       "      <th></th>\n",
       "      <th>1</th>\n",
       "      <th>Lamtone</th>\n",
       "      <th>IT Services</th>\n",
       "      <th>2009</th>\n",
       "      <th>$11,757,018</th>\n",
       "      <th>6,482,465 Dollars</th>\n",
       "      <th>5274553</th>\n",
       "      <th>30%</th>\n",
       "    </tr>\n",
       "  </thead>\n",
       "  <tbody>\n",
       "    <tr>\n",
       "      <th>0</th>\n",
       "      <td>2</td>\n",
       "      <td>Stripfind</td>\n",
       "      <td>Financial Services</td>\n",
       "      <td>2010</td>\n",
       "      <td>$12,329,371</td>\n",
       "      <td>916,455 Dollars</td>\n",
       "      <td>11412916</td>\n",
       "      <td>20%</td>\n",
       "    </tr>\n",
       "    <tr>\n",
       "      <th>1</th>\n",
       "      <td>3</td>\n",
       "      <td>Canecorporation</td>\n",
       "      <td>Health</td>\n",
       "      <td>2012</td>\n",
       "      <td>$10,597,009</td>\n",
       "      <td>7,591,189 Dollars</td>\n",
       "      <td>3005820</td>\n",
       "      <td>7%</td>\n",
       "    </tr>\n",
       "    <tr>\n",
       "      <th>2</th>\n",
       "      <td>4</td>\n",
       "      <td>Mattouch</td>\n",
       "      <td>IT Services</td>\n",
       "      <td>2013</td>\n",
       "      <td>$14,026,934</td>\n",
       "      <td>7,429,377 Dollars</td>\n",
       "      <td>6597557</td>\n",
       "      <td>26%</td>\n",
       "    </tr>\n",
       "  </tbody>\n",
       "</table>\n",
       "</div>"
      ],
      "text/plain": [
       "   1          Lamtone         IT Services  2009  $11,757,018   \\\n",
       "0  2        Stripfind  Financial Services  2010  $12,329,371    \n",
       "1  3  Canecorporation              Health  2012  $10,597,009    \n",
       "2  4         Mattouch         IT Services  2013  $14,026,934    \n",
       "\n",
       "   6,482,465 Dollars   5274553  30%  \n",
       "0    916,455 Dollars  11412916  20%  \n",
       "1  7,591,189 Dollars   3005820   7%  \n",
       "2  7,429,377 Dollars   6597557  26%  "
      ]
     },
     "execution_count": 28,
     "metadata": {},
     "output_type": "execute_result"
    }
   ],
   "source": [
    "df = pd.read_csv('Fortune_10.csv', skiprows = 1) # skip No of rows\n",
    "df.head(3)"
   ]
  },
  {
   "cell_type": "code",
   "execution_count": 31,
   "metadata": {},
   "outputs": [
    {
     "data": {
      "text/html": [
       "<div>\n",
       "<style scoped>\n",
       "    .dataframe tbody tr th:only-of-type {\n",
       "        vertical-align: middle;\n",
       "    }\n",
       "\n",
       "    .dataframe tbody tr th {\n",
       "        vertical-align: top;\n",
       "    }\n",
       "\n",
       "    .dataframe thead th {\n",
       "        text-align: right;\n",
       "    }\n",
       "</style>\n",
       "<table border=\"1\" class=\"dataframe\">\n",
       "  <thead>\n",
       "    <tr style=\"text-align: right;\">\n",
       "      <th></th>\n",
       "      <th>1</th>\n",
       "      <th>Lamtone</th>\n",
       "      <th>IT Services</th>\n",
       "      <th>2009</th>\n",
       "      <th>$11,757,018</th>\n",
       "      <th>6,482,465 Dollars</th>\n",
       "      <th>5274553</th>\n",
       "      <th>30%</th>\n",
       "    </tr>\n",
       "  </thead>\n",
       "  <tbody>\n",
       "    <tr>\n",
       "      <th>0</th>\n",
       "      <td>2</td>\n",
       "      <td>Stripfind</td>\n",
       "      <td>Financial Services</td>\n",
       "      <td>2010</td>\n",
       "      <td>$12,329,371</td>\n",
       "      <td>916,455 Dollars</td>\n",
       "      <td>11412916</td>\n",
       "      <td>20%</td>\n",
       "    </tr>\n",
       "    <tr>\n",
       "      <th>1</th>\n",
       "      <td>3</td>\n",
       "      <td>Canecorporation</td>\n",
       "      <td>Health</td>\n",
       "      <td>2012</td>\n",
       "      <td>$10,597,009</td>\n",
       "      <td>7,591,189 Dollars</td>\n",
       "      <td>3005820</td>\n",
       "      <td>7%</td>\n",
       "    </tr>\n",
       "    <tr>\n",
       "      <th>2</th>\n",
       "      <td>4</td>\n",
       "      <td>Mattouch</td>\n",
       "      <td>IT Services</td>\n",
       "      <td>2013</td>\n",
       "      <td>$14,026,934</td>\n",
       "      <td>7,429,377 Dollars</td>\n",
       "      <td>6597557</td>\n",
       "      <td>26%</td>\n",
       "    </tr>\n",
       "    <tr>\n",
       "      <th>3</th>\n",
       "      <td>5</td>\n",
       "      <td>Techdrill</td>\n",
       "      <td>Health</td>\n",
       "      <td>2009</td>\n",
       "      <td>$10,573,990</td>\n",
       "      <td>7,435,363 Dollars</td>\n",
       "      <td>3138627</td>\n",
       "      <td>8%</td>\n",
       "    </tr>\n",
       "    <tr>\n",
       "      <th>4</th>\n",
       "      <td>6</td>\n",
       "      <td>Techline</td>\n",
       "      <td>Health</td>\n",
       "      <td>2006</td>\n",
       "      <td>$13,898,119</td>\n",
       "      <td>5,470,303 Dollars</td>\n",
       "      <td>8427816</td>\n",
       "      <td>23%</td>\n",
       "    </tr>\n",
       "  </tbody>\n",
       "</table>\n",
       "</div>"
      ],
      "text/plain": [
       "   1          Lamtone         IT Services  2009  $11,757,018   \\\n",
       "0  2        Stripfind  Financial Services  2010  $12,329,371    \n",
       "1  3  Canecorporation              Health  2012  $10,597,009    \n",
       "2  4         Mattouch         IT Services  2013  $14,026,934    \n",
       "3  5        Techdrill              Health  2009  $10,573,990    \n",
       "4  6         Techline              Health  2006  $13,898,119    \n",
       "\n",
       "   6,482,465 Dollars   5274553  30%  \n",
       "0    916,455 Dollars  11412916  20%  \n",
       "1  7,591,189 Dollars   3005820   7%  \n",
       "2  7,429,377 Dollars   6597557  26%  \n",
       "3  7,435,363 Dollars   3138627   8%  \n",
       "4  5,470,303 Dollars   8427816  23%  "
      ]
     },
     "execution_count": 31,
     "metadata": {},
     "output_type": "execute_result"
    }
   ],
   "source": [
    "df = pd.read_csv('Fortune_10.csv', skiprows = [0])\n",
    "df.head(5)"
   ]
  },
  {
   "cell_type": "markdown",
   "metadata": {},
   "source": [
    "# Handling Missing Values"
   ]
  },
  {
   "cell_type": "code",
   "execution_count": 37,
   "metadata": {},
   "outputs": [
    {
     "data": {
      "text/html": [
       "<div>\n",
       "<style scoped>\n",
       "    .dataframe tbody tr th:only-of-type {\n",
       "        vertical-align: middle;\n",
       "    }\n",
       "\n",
       "    .dataframe tbody tr th {\n",
       "        vertical-align: top;\n",
       "    }\n",
       "\n",
       "    .dataframe thead th {\n",
       "        text-align: right;\n",
       "    }\n",
       "</style>\n",
       "<table border=\"1\" class=\"dataframe\">\n",
       "  <thead>\n",
       "    <tr style=\"text-align: right;\">\n",
       "      <th></th>\n",
       "      <th>ID</th>\n",
       "      <th>Name</th>\n",
       "      <th>Industry</th>\n",
       "      <th>Inception</th>\n",
       "      <th>Revenue</th>\n",
       "      <th>Expenses</th>\n",
       "      <th>Profit</th>\n",
       "      <th>Growth</th>\n",
       "    </tr>\n",
       "  </thead>\n",
       "  <tbody>\n",
       "    <tr>\n",
       "      <th>0</th>\n",
       "      <td>1</td>\n",
       "      <td>Lamtone</td>\n",
       "      <td>IT Services</td>\n",
       "      <td>2009</td>\n",
       "      <td>$11,757,018</td>\n",
       "      <td>6,482,465 Dollars</td>\n",
       "      <td>5274553.0</td>\n",
       "      <td>30%</td>\n",
       "    </tr>\n",
       "    <tr>\n",
       "      <th>1</th>\n",
       "      <td>2</td>\n",
       "      <td>no value</td>\n",
       "      <td>Financial Services</td>\n",
       "      <td>2010</td>\n",
       "      <td>$12,329,371</td>\n",
       "      <td>916,455 Dollars</td>\n",
       "      <td>11412916.0</td>\n",
       "      <td>20%</td>\n",
       "    </tr>\n",
       "    <tr>\n",
       "      <th>2</th>\n",
       "      <td>3</td>\n",
       "      <td>Canecorporation</td>\n",
       "      <td>not avail</td>\n",
       "      <td>2012</td>\n",
       "      <td>$10,597,009</td>\n",
       "      <td>7,591,189 Dollars</td>\n",
       "      <td>NaN</td>\n",
       "      <td>7%</td>\n",
       "    </tr>\n",
       "    <tr>\n",
       "      <th>3</th>\n",
       "      <td>4</td>\n",
       "      <td>Mattouch</td>\n",
       "      <td>IT Services</td>\n",
       "      <td>2013</td>\n",
       "      <td>$14,026,934</td>\n",
       "      <td>7,429,377 Dollars</td>\n",
       "      <td>NaN</td>\n",
       "      <td>26%</td>\n",
       "    </tr>\n",
       "    <tr>\n",
       "      <th>4</th>\n",
       "      <td>5</td>\n",
       "      <td>Techdrill</td>\n",
       "      <td>NaN</td>\n",
       "      <td>2009</td>\n",
       "      <td>$10,573,990</td>\n",
       "      <td>7,435,363 Dollars</td>\n",
       "      <td>3138627.0</td>\n",
       "      <td>8%</td>\n",
       "    </tr>\n",
       "    <tr>\n",
       "      <th>5</th>\n",
       "      <td>6</td>\n",
       "      <td>Techline</td>\n",
       "      <td>NaN</td>\n",
       "      <td>2006</td>\n",
       "      <td>$13,898,119</td>\n",
       "      <td>5,470,303 Dollars</td>\n",
       "      <td>8427816.0</td>\n",
       "      <td>23%</td>\n",
       "    </tr>\n",
       "    <tr>\n",
       "      <th>6</th>\n",
       "      <td>7</td>\n",
       "      <td>Cityace</td>\n",
       "      <td>NaN</td>\n",
       "      <td>2010</td>\n",
       "      <td>$9,254,614</td>\n",
       "      <td>6,249,498 Dollars</td>\n",
       "      <td>3005116.0</td>\n",
       "      <td>6%</td>\n",
       "    </tr>\n",
       "    <tr>\n",
       "      <th>7</th>\n",
       "      <td>8</td>\n",
       "      <td>Kayelectronics</td>\n",
       "      <td>NaN</td>\n",
       "      <td>2009</td>\n",
       "      <td>$9,451,943</td>\n",
       "      <td>3,878,113 Dollars</td>\n",
       "      <td>5573830.0</td>\n",
       "      <td>4%</td>\n",
       "    </tr>\n",
       "    <tr>\n",
       "      <th>8</th>\n",
       "      <td>9</td>\n",
       "      <td>Ganzlax</td>\n",
       "      <td>IT Services</td>\n",
       "      <td>2011</td>\n",
       "      <td>$14,001,180</td>\n",
       "      <td>NaN</td>\n",
       "      <td>11901180.0</td>\n",
       "      <td>18%</td>\n",
       "    </tr>\n",
       "    <tr>\n",
       "      <th>9</th>\n",
       "      <td>10</td>\n",
       "      <td>Trantraxlax</td>\n",
       "      <td>Government Services</td>\n",
       "      <td>2011</td>\n",
       "      <td>$11,088,336</td>\n",
       "      <td>5,635,276 Dollars</td>\n",
       "      <td>5453060.0</td>\n",
       "      <td>7%</td>\n",
       "    </tr>\n",
       "  </tbody>\n",
       "</table>\n",
       "</div>"
      ],
      "text/plain": [
       "   ID             Name             Industry  Inception       Revenue  \\\n",
       "0   1          Lamtone          IT Services       2009  $11,757,018    \n",
       "1   2         no value   Financial Services       2010  $12,329,371    \n",
       "2   3  Canecorporation            not avail       2012  $10,597,009    \n",
       "3   4         Mattouch          IT Services       2013  $14,026,934    \n",
       "4   5        Techdrill                  NaN       2009  $10,573,990    \n",
       "5   6         Techline                  NaN       2006  $13,898,119    \n",
       "6   7          Cityace                  NaN       2010   $9,254,614    \n",
       "7   8   Kayelectronics                  NaN       2009   $9,451,943    \n",
       "8   9          Ganzlax          IT Services       2011  $14,001,180    \n",
       "9  10      Trantraxlax  Government Services       2011  $11,088,336    \n",
       "\n",
       "            Expenses      Profit Growth  \n",
       "0  6,482,465 Dollars   5274553.0    30%  \n",
       "1    916,455 Dollars  11412916.0    20%  \n",
       "2  7,591,189 Dollars         NaN     7%  \n",
       "3  7,429,377 Dollars         NaN    26%  \n",
       "4  7,435,363 Dollars   3138627.0     8%  \n",
       "5  5,470,303 Dollars   8427816.0    23%  \n",
       "6  6,249,498 Dollars   3005116.0     6%  \n",
       "7  3,878,113 Dollars   5573830.0     4%  \n",
       "8                NaN  11901180.0    18%  \n",
       "9  5,635,276 Dollars   5453060.0     7%  "
      ]
     },
     "execution_count": 37,
     "metadata": {},
     "output_type": "execute_result"
    }
   ],
   "source": [
    "df = pd.read_csv('Fortune_10_Missing.csv')\n",
    "df"
   ]
  },
  {
   "cell_type": "code",
   "execution_count": 39,
   "metadata": {},
   "outputs": [
    {
     "data": {
      "text/html": [
       "<div>\n",
       "<style scoped>\n",
       "    .dataframe tbody tr th:only-of-type {\n",
       "        vertical-align: middle;\n",
       "    }\n",
       "\n",
       "    .dataframe tbody tr th {\n",
       "        vertical-align: top;\n",
       "    }\n",
       "\n",
       "    .dataframe thead th {\n",
       "        text-align: right;\n",
       "    }\n",
       "</style>\n",
       "<table border=\"1\" class=\"dataframe\">\n",
       "  <thead>\n",
       "    <tr style=\"text-align: right;\">\n",
       "      <th></th>\n",
       "      <th>ID</th>\n",
       "      <th>Name</th>\n",
       "      <th>Industry</th>\n",
       "      <th>Inception</th>\n",
       "      <th>Revenue</th>\n",
       "      <th>Expenses</th>\n",
       "      <th>Profit</th>\n",
       "      <th>Growth</th>\n",
       "    </tr>\n",
       "  </thead>\n",
       "  <tbody>\n",
       "    <tr>\n",
       "      <th>0</th>\n",
       "      <td>1</td>\n",
       "      <td>Lamtone</td>\n",
       "      <td>IT Services</td>\n",
       "      <td>2009</td>\n",
       "      <td>$11,757,018</td>\n",
       "      <td>6,482,465 Dollars</td>\n",
       "      <td>5274553.0</td>\n",
       "      <td>30%</td>\n",
       "    </tr>\n",
       "    <tr>\n",
       "      <th>1</th>\n",
       "      <td>2</td>\n",
       "      <td>NaN</td>\n",
       "      <td>Financial Services</td>\n",
       "      <td>2010</td>\n",
       "      <td>$12,329,371</td>\n",
       "      <td>916,455 Dollars</td>\n",
       "      <td>11412916.0</td>\n",
       "      <td>20%</td>\n",
       "    </tr>\n",
       "    <tr>\n",
       "      <th>2</th>\n",
       "      <td>3</td>\n",
       "      <td>Canecorporation</td>\n",
       "      <td>NaN</td>\n",
       "      <td>2012</td>\n",
       "      <td>$10,597,009</td>\n",
       "      <td>7,591,189 Dollars</td>\n",
       "      <td>NaN</td>\n",
       "      <td>7%</td>\n",
       "    </tr>\n",
       "    <tr>\n",
       "      <th>3</th>\n",
       "      <td>4</td>\n",
       "      <td>Mattouch</td>\n",
       "      <td>IT Services</td>\n",
       "      <td>2013</td>\n",
       "      <td>$14,026,934</td>\n",
       "      <td>7,429,377 Dollars</td>\n",
       "      <td>NaN</td>\n",
       "      <td>26%</td>\n",
       "    </tr>\n",
       "    <tr>\n",
       "      <th>4</th>\n",
       "      <td>5</td>\n",
       "      <td>Techdrill</td>\n",
       "      <td>NaN</td>\n",
       "      <td>2009</td>\n",
       "      <td>$10,573,990</td>\n",
       "      <td>7,435,363 Dollars</td>\n",
       "      <td>3138627.0</td>\n",
       "      <td>8%</td>\n",
       "    </tr>\n",
       "    <tr>\n",
       "      <th>5</th>\n",
       "      <td>6</td>\n",
       "      <td>Techline</td>\n",
       "      <td>NaN</td>\n",
       "      <td>2006</td>\n",
       "      <td>$13,898,119</td>\n",
       "      <td>5,470,303 Dollars</td>\n",
       "      <td>8427816.0</td>\n",
       "      <td>23%</td>\n",
       "    </tr>\n",
       "    <tr>\n",
       "      <th>6</th>\n",
       "      <td>7</td>\n",
       "      <td>Cityace</td>\n",
       "      <td>NaN</td>\n",
       "      <td>2010</td>\n",
       "      <td>$9,254,614</td>\n",
       "      <td>6,249,498 Dollars</td>\n",
       "      <td>3005116.0</td>\n",
       "      <td>6%</td>\n",
       "    </tr>\n",
       "    <tr>\n",
       "      <th>7</th>\n",
       "      <td>8</td>\n",
       "      <td>Kayelectronics</td>\n",
       "      <td>NaN</td>\n",
       "      <td>2009</td>\n",
       "      <td>$9,451,943</td>\n",
       "      <td>3,878,113 Dollars</td>\n",
       "      <td>5573830.0</td>\n",
       "      <td>4%</td>\n",
       "    </tr>\n",
       "    <tr>\n",
       "      <th>8</th>\n",
       "      <td>9</td>\n",
       "      <td>Ganzlax</td>\n",
       "      <td>IT Services</td>\n",
       "      <td>2011</td>\n",
       "      <td>$14,001,180</td>\n",
       "      <td>NaN</td>\n",
       "      <td>11901180.0</td>\n",
       "      <td>18%</td>\n",
       "    </tr>\n",
       "    <tr>\n",
       "      <th>9</th>\n",
       "      <td>10</td>\n",
       "      <td>Trantraxlax</td>\n",
       "      <td>Government Services</td>\n",
       "      <td>2011</td>\n",
       "      <td>$11,088,336</td>\n",
       "      <td>5,635,276 Dollars</td>\n",
       "      <td>5453060.0</td>\n",
       "      <td>7%</td>\n",
       "    </tr>\n",
       "  </tbody>\n",
       "</table>\n",
       "</div>"
      ],
      "text/plain": [
       "   ID             Name             Industry  Inception       Revenue  \\\n",
       "0   1          Lamtone          IT Services       2009  $11,757,018    \n",
       "1   2              NaN   Financial Services       2010  $12,329,371    \n",
       "2   3  Canecorporation                  NaN       2012  $10,597,009    \n",
       "3   4         Mattouch          IT Services       2013  $14,026,934    \n",
       "4   5        Techdrill                  NaN       2009  $10,573,990    \n",
       "5   6         Techline                  NaN       2006  $13,898,119    \n",
       "6   7          Cityace                  NaN       2010   $9,254,614    \n",
       "7   8   Kayelectronics                  NaN       2009   $9,451,943    \n",
       "8   9          Ganzlax          IT Services       2011  $14,001,180    \n",
       "9  10      Trantraxlax  Government Services       2011  $11,088,336    \n",
       "\n",
       "            Expenses      Profit Growth  \n",
       "0  6,482,465 Dollars   5274553.0    30%  \n",
       "1    916,455 Dollars  11412916.0    20%  \n",
       "2  7,591,189 Dollars         NaN     7%  \n",
       "3  7,429,377 Dollars         NaN    26%  \n",
       "4  7,435,363 Dollars   3138627.0     8%  \n",
       "5  5,470,303 Dollars   8427816.0    23%  \n",
       "6  6,249,498 Dollars   3005116.0     6%  \n",
       "7  3,878,113 Dollars   5573830.0     4%  \n",
       "8                NaN  11901180.0    18%  \n",
       "9  5,635,276 Dollars   5453060.0     7%  "
      ]
     },
     "execution_count": 39,
     "metadata": {},
     "output_type": "execute_result"
    }
   ],
   "source": [
    "df = pd.read_csv('Fortune_10_Missing.csv', na_values = ['no value', 'not avail'])\n",
    "df"
   ]
  },
  {
   "cell_type": "code",
   "execution_count": null,
   "metadata": {},
   "outputs": [],
   "source": []
  },
  {
   "cell_type": "code",
   "execution_count": null,
   "metadata": {},
   "outputs": [],
   "source": []
  }
 ],
 "metadata": {
  "kernelspec": {
   "display_name": "Python 3",
   "language": "python",
   "name": "python3"
  },
  "language_info": {
   "codemirror_mode": {
    "name": "ipython",
    "version": 3
   },
   "file_extension": ".py",
   "mimetype": "text/x-python",
   "name": "python",
   "nbconvert_exporter": "python",
   "pygments_lexer": "ipython3",
   "version": "3.7.6"
  }
 },
 "nbformat": 4,
 "nbformat_minor": 4
}
