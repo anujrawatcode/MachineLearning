{
 "cells": [
  {
   "cell_type": "markdown",
   "metadata": {},
   "source": [
    "## Topics to be covered\n",
    "#### Variables and Variable naming conventions\n",
    "#### Data types in Python\n",
    "#### Conditional Statements\n",
    "#### Looping Statements\n",
    "#### Functions\n",
    "#### Package in Python\n",
    "#### Libarary"
   ]
  },
  {
   "cell_type": "markdown",
   "metadata": {},
   "source": [
    "# Operators"
   ]
  },
  {
   "cell_type": "code",
   "execution_count": 9,
   "metadata": {},
   "outputs": [
    {
     "name": "stdout",
     "output_type": "stream",
     "text": [
      "8\n",
      "10\n",
      "3\n",
      "2.0\n"
     ]
    }
   ],
   "source": [
    "# Arithematic Operator\n",
    "print(3+5)\n",
    "print(5*2)\n",
    "print(5-2)\n",
    "print(6/3)"
   ]
  },
  {
   "cell_type": "code",
   "execution_count": 3,
   "metadata": {},
   "outputs": [
    {
     "data": {
      "text/plain": [
       "'stringstringstring'"
      ]
     },
     "execution_count": 3,
     "metadata": {},
     "output_type": "execute_result"
    }
   ],
   "source": [
    "'string'*3\n",
    "# 'string'+3 will show error"
   ]
  },
  {
   "cell_type": "code",
   "execution_count": 14,
   "metadata": {},
   "outputs": [
    {
     "name": "stdout",
     "output_type": "stream",
     "text": [
      "False\n",
      "True\n"
     ]
    }
   ],
   "source": [
    "#Comparison operator return T/F \n",
    "print(3>5)\n",
    "print(5>3)\n",
    "#  <\n",
    "#  <=\n",
    "#  ==\n",
    "#  >\n",
    "#  >=\n",
    "#  !=\n"
   ]
  },
  {
   "cell_type": "code",
   "execution_count": 16,
   "metadata": {},
   "outputs": [],
   "source": [
    "#Logical Operator  and ,  or , not"
   ]
  },
  {
   "cell_type": "code",
   "execution_count": 17,
   "metadata": {},
   "outputs": [],
   "source": [
    "# and : returns first false, if not found return last"
   ]
  },
  {
   "cell_type": "code",
   "execution_count": 29,
   "metadata": {},
   "outputs": [
    {
     "name": "stdout",
     "output_type": "stream",
     "text": [
      "0\n",
      "0\n",
      "0\n",
      "1\n",
      ".....\n",
      "0\n",
      "0\n",
      "0\n",
      "1\n"
     ]
    }
   ],
   "source": [
    "print(0 & 0)\n",
    "print(0 & 1)\n",
    "print(1 & 0)\n",
    "print(1 & 1)\n",
    "print('.....')\n",
    "print(0 and 0)\n",
    "print(0 and 1)\n",
    "print(1 and 0)\n",
    "print(1 and 1)"
   ]
  },
  {
   "cell_type": "code",
   "execution_count": 26,
   "metadata": {},
   "outputs": [
    {
     "name": "stdout",
     "output_type": "stream",
     "text": [
      "1\n",
      "5\n"
     ]
    }
   ],
   "source": [
    "print(3 & 5)\n",
    "print(3 and 5)"
   ]
  },
  {
   "cell_type": "code",
   "execution_count": 27,
   "metadata": {},
   "outputs": [],
   "source": [
    "# or : return first true value, if not found return last"
   ]
  },
  {
   "cell_type": "code",
   "execution_count": 31,
   "metadata": {},
   "outputs": [
    {
     "name": "stdout",
     "output_type": "stream",
     "text": [
      "0\n",
      "1\n",
      "1\n",
      "1\n"
     ]
    }
   ],
   "source": [
    "\n",
    "print(0 or 0)\n",
    "print(0 or 1)\n",
    "print(1 or 0)\n",
    "print(1 or 1)"
   ]
  },
  {
   "cell_type": "code",
   "execution_count": 32,
   "metadata": {},
   "outputs": [
    {
     "name": "stdout",
     "output_type": "stream",
     "text": [
      "3\n"
     ]
    }
   ],
   "source": [
    "print(3 or 5)"
   ]
  },
  {
   "cell_type": "code",
   "execution_count": 33,
   "metadata": {},
   "outputs": [],
   "source": [
    "#not : flips the boolean value"
   ]
  },
  {
   "cell_type": "code",
   "execution_count": 37,
   "metadata": {},
   "outputs": [
    {
     "name": "stdout",
     "output_type": "stream",
     "text": [
      "True\n",
      "False\n",
      "False\n"
     ]
    }
   ],
   "source": [
    "print(not(0))\n",
    "print(not(3))\n",
    "print(not('hi'))"
   ]
  },
  {
   "cell_type": "markdown",
   "metadata": {},
   "source": [
    "#    Variables"
   ]
  },
  {
   "cell_type": "code",
   "execution_count": 1,
   "metadata": {},
   "outputs": [
    {
     "name": "stdout",
     "output_type": "stream",
     "text": [
      "5\n",
      "hi\n"
     ]
    },
    {
     "data": {
      "text/plain": [
       "int"
      ]
     },
     "execution_count": 1,
     "metadata": {},
     "output_type": "execute_result"
    }
   ],
   "source": [
    "j=5\n",
    "print(j)\n",
    "k='hi'\n",
    "print(k)\n",
    "type(4)"
   ]
  },
  {
   "cell_type": "markdown",
   "metadata": {},
   "source": [
    "# Conditional Statement"
   ]
  },
  {
   "cell_type": "code",
   "execution_count": 44,
   "metadata": {},
   "outputs": [],
   "source": [
    "# If-else statement\n",
    "\n",
    "#  If(condition):\n",
    "#      st1\n",
    "#  else\n",
    "#      st2\n",
    "\n",
    "#-------Multiple------\n",
    "#  if(condition):\n",
    "#      st1\n",
    "#  elif(condition2):\n",
    "#      st2\n",
    "#  else:\n",
    "#      st3"
   ]
  },
  {
   "cell_type": "code",
   "execution_count": 48,
   "metadata": {},
   "outputs": [],
   "source": [
    "x=0"
   ]
  },
  {
   "cell_type": "code",
   "execution_count": 53,
   "metadata": {},
   "outputs": [
    {
     "name": "stdout",
     "output_type": "stream",
     "text": [
      "zero\n"
     ]
    }
   ],
   "source": [
    "if(x>0):\n",
    "   print(\"positive\")\n",
    "elif(x==0):\n",
    "   print('zero')\n",
    "else:\n",
    "   print('negative')"
   ]
  },
  {
   "cell_type": "markdown",
   "metadata": {},
   "source": [
    "# Looping"
   ]
  },
  {
   "cell_type": "code",
   "execution_count": 6,
   "metadata": {},
   "outputs": [
    {
     "name": "stdout",
     "output_type": "stream",
     "text": [
      "0\n",
      "1\n",
      "2\n",
      "3\n",
      "4\n"
     ]
    }
   ],
   "source": [
    "for i in range(5):\n",
    "  print(i)"
   ]
  },
  {
   "cell_type": "code",
   "execution_count": 8,
   "metadata": {},
   "outputs": [
    {
     "name": "stdout",
     "output_type": "stream",
     "text": [
      "10\n",
      "11\n",
      "12\n",
      "13\n",
      "14\n"
     ]
    }
   ],
   "source": [
    "for i in range(10, 15): # [a,b)\n",
    "    print(i)"
   ]
  },
  {
   "cell_type": "code",
   "execution_count": 12,
   "metadata": {},
   "outputs": [
    {
     "name": "stdout",
     "output_type": "stream",
     "text": [
      "10\n",
      "12\n",
      "14\n",
      "16\n",
      "18\n"
     ]
    }
   ],
   "source": [
    "for i in range(10, 20, 2): \n",
    "   print(i)"
   ]
  },
  {
   "cell_type": "markdown",
   "metadata": {},
   "source": [
    "# Functions"
   ]
  },
  {
   "cell_type": "code",
   "execution_count": 13,
   "metadata": {},
   "outputs": [],
   "source": [
    "#   def fun_name(arg):\n",
    "#        st 1\n",
    "#        st 2\n",
    "#        return st"
   ]
  },
  {
   "cell_type": "code",
   "execution_count": 15,
   "metadata": {},
   "outputs": [
    {
     "name": "stdout",
     "output_type": "stream",
     "text": [
      "5\n"
     ]
    }
   ],
   "source": [
    "def compare(a,b):\n",
    "    if(a>b):\n",
    "      return a\n",
    "    return b\n",
    "print(compare(3,5))"
   ]
  },
  {
   "cell_type": "code",
   "execution_count": 16,
   "metadata": {
    "scrolled": true
   },
   "outputs": [
    {
     "name": "stdout",
     "output_type": "stream",
     "text": [
      "28.259999999999998\n"
     ]
    }
   ],
   "source": [
    "def area_circle(r):\n",
    "  return 3.14*r*r\n",
    "print(area_circle(3))"
   ]
  },
  {
   "cell_type": "markdown",
   "metadata": {},
   "source": [
    "# Data structure"
   ]
  },
  {
   "cell_type": "markdown",
   "metadata": {},
   "source": [
    "### List mix data in sequence : [  ' a' , 'b' , '1' , 'ram' ] "
   ]
  },
  {
   "cell_type": "markdown",
   "metadata": {},
   "source": [
    "### Dictionaries key-pair data no sequence { 'ram':2 , 'syam':3 }  { ' key ' : value }"
   ]
  },
  {
   "cell_type": "code",
   "execution_count": 28,
   "metadata": {},
   "outputs": [
    {
     "data": {
      "text/plain": [
       "['an', 1, 2, 'se']"
      ]
     },
     "execution_count": 28,
     "metadata": {},
     "output_type": "execute_result"
    }
   ],
   "source": [
    "list1=['an',1, 2,'se']\n",
    "list1\n"
   ]
  },
  {
   "cell_type": "code",
   "execution_count": 32,
   "metadata": {},
   "outputs": [
    {
     "name": "stdout",
     "output_type": "stream",
     "text": [
      "1\n",
      "[1, 2, 'se']\n",
      "se\n"
     ]
    }
   ],
   "source": [
    "#sub-sttting list\n",
    "print(list1[1])  # extract a item\n",
    "print(list1[1:4]) # extract a sequence [a:b]\n",
    "print(list1[-1])  # extract from end"
   ]
  },
  {
   "cell_type": "code",
   "execution_count": 34,
   "metadata": {},
   "outputs": [
    {
     "data": {
      "text/plain": [
       "['an', 1, 2, 'se', 4, 4]"
      ]
     },
     "execution_count": 34,
     "metadata": {},
     "output_type": "execute_result"
    }
   ],
   "source": [
    "#adding element in list\n",
    "list1.append(5) # add a element in the last \n",
    "list1"
   ]
  },
  {
   "cell_type": "code",
   "execution_count": 42,
   "metadata": {},
   "outputs": [
    {
     "name": "stdout",
     "output_type": "stream",
     "text": [
      "['an', 'se', 4, 4, 6, 7, 8, 6, 7, 8, [9, 'sw'], 6, 7, 8, [9, 'sw'], 11, 'df', 6, 7, 8]\n",
      "['an', 'se', 4, 4, 6, 7, 8, 6, 7, 8, [9, 'sw'], 6, 7, 8, [9, 'sw'], 11, 'df', 6, 7, 8, [9, 'sw']]\n",
      "['an', 'se', 4, 4, 6, 7, 8, 6, 7, 8, [9, 'sw'], 6, 7, 8, [9, 'sw'], 11, 'df', 6, 7, 8, [9, 'sw'], 11, 'df']\n"
     ]
    }
   ],
   "source": [
    "list1.extend([6,7,8])\n",
    "print(list1)\n",
    "list1.append([9,'sw'])\n",
    "print(list1)\n",
    "list1.extend([11, 'df'])\n",
    "print(list1)"
   ]
  },
  {
   "cell_type": "code",
   "execution_count": 46,
   "metadata": {},
   "outputs": [
    {
     "name": "stdout",
     "output_type": "stream",
     "text": [
      "['se', 4, 6, 7, 8, 6, 7, 8, [9, 'sw'], 6, 7, 8, [9, 'sw'], 11, 'df', 6, 7, 8, [9, 'sw'], 11, 'df']\n"
     ]
    }
   ],
   "source": [
    "#delete item from list\n",
    "list1.remove('an') # remove a element by valur \n",
    "print( list1 )\n"
   ]
  },
  {
   "cell_type": "code",
   "execution_count": 48,
   "metadata": {},
   "outputs": [
    {
     "name": "stdout",
     "output_type": "stream",
     "text": [
      "['se', 4, 6, 6, 7, 8, [9, 'sw'], 6, 7, 8, [9, 'sw'], 11, 'df', 6, 7, 8, [9, 'sw'], 11, 'df']\n"
     ]
    }
   ],
   "source": [
    "del list1[3]  # delete by index\n",
    "print(list1)"
   ]
  },
  {
   "cell_type": "code",
   "execution_count": 50,
   "metadata": {},
   "outputs": [
    {
     "name": "stdout",
     "output_type": "stream",
     "text": [
      "se\n",
      "4\n",
      "6\n",
      "6\n",
      "7\n",
      "8\n",
      "[9, 'sw']\n",
      "6\n",
      "7\n",
      "8\n",
      "[9, 'sw']\n",
      "11\n",
      "df\n",
      "6\n",
      "7\n",
      "8\n",
      "[9, 'sw']\n",
      "11\n",
      "df\n"
     ]
    }
   ],
   "source": [
    " # looping over the list\n",
    "for i in list1: \n",
    "    print(i)"
   ]
  },
  {
   "cell_type": "markdown",
   "metadata": {},
   "source": [
    "# Dictionaries"
   ]
  },
  {
   "cell_type": "code",
   "execution_count": 58,
   "metadata": {},
   "outputs": [],
   "source": [
    "dict1 = { 'Ram' : [150, 46] , 'sam' : [23, 45] , }"
   ]
  },
  {
   "cell_type": "code",
   "execution_count": 59,
   "metadata": {},
   "outputs": [
    {
     "data": {
      "text/plain": [
       "[150, 46]"
      ]
     },
     "execution_count": 59,
     "metadata": {},
     "output_type": "execute_result"
    }
   ],
   "source": [
    "dict1['Ram'] # use key to access value "
   ]
  },
  {
   "cell_type": "code",
   "execution_count": 60,
   "metadata": {},
   "outputs": [
    {
     "name": "stdout",
     "output_type": "stream",
     "text": [
      "{'Ram': [150, 46], 'sam': [23, 45], 'Ne': [12, 3]}\n"
     ]
    }
   ],
   "source": [
    "# adding a singe element\n",
    "dict1['Ne']=[12,3]\n",
    "print( dict1 )"
   ]
  },
  {
   "cell_type": "code",
   "execution_count": 61,
   "metadata": {},
   "outputs": [
    {
     "name": "stdout",
     "output_type": "stream",
     "text": [
      "{'Ram': [150, 46], 'sam': [23, 45], 'Ne': [12, 3], 'ks': [23, 34], 'fr': [43, 56]}\n"
     ]
    }
   ],
   "source": [
    "# adding muliple key values\n",
    "dict1.update( { 'ks':[23, 34], 'fr':[43 ,56] } )\n",
    "print(dict1)"
   ]
  },
  {
   "cell_type": "code",
   "execution_count": null,
   "metadata": {},
   "outputs": [],
   "source": [
    "# deleting from dictionarise\n",
    "del dict1['Ram']"
   ]
  },
  {
   "cell_type": "code",
   "execution_count": 64,
   "metadata": {},
   "outputs": [
    {
     "name": "stdout",
     "output_type": "stream",
     "text": [
      "{'sam': [23, 45], 'Ne': [12, 3], 'ks': [23, 34], 'fr': [43, 56]}\n"
     ]
    }
   ],
   "source": [
    "print(dict1)"
   ]
  },
  {
   "cell_type": "code",
   "execution_count": null,
   "metadata": {},
   "outputs": [],
   "source": []
  }
 ],
 "metadata": {
  "kernelspec": {
   "display_name": "Python 3",
   "language": "python",
   "name": "python3"
  },
  "language_info": {
   "codemirror_mode": {
    "name": "ipython",
    "version": 3
   },
   "file_extension": ".py",
   "mimetype": "text/x-python",
   "name": "python",
   "nbconvert_exporter": "python",
   "pygments_lexer": "ipython3",
   "version": "3.7.6"
  }
 },
 "nbformat": 4,
 "nbformat_minor": 4
}
